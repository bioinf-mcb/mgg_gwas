{
 "cells": [
  {
   "cell_type": "code",
   "execution_count": 69,
   "id": "40a2df63-33e6-4f00-b60e-c1f0e05d0448",
   "metadata": {},
   "outputs": [
    {
     "name": "stdout",
     "output_type": "stream",
     "text": [
      "The autoreload extension is already loaded. To reload it, use:\n",
      "  %reload_ext autoreload\n"
     ]
    }
   ],
   "source": [
    "import sys\n",
    "import argparse\n",
    "import warnings\n",
    "from pathlib import Path\n",
    "from scripts.processing import Processor\n",
    "from scripts.folder_structure import FolderStructure\n",
    "from scripts.analyze import load_pyseer_hits\n",
    "from scripts.analyze import AnalyzeResults\n",
    "from scripts.figures import get_k_loci, FIGURE4_PANELA, FIGURE4_PANELB, FIGURE4_PANELC\n",
    "\n",
    "\n",
    "%load_ext autoreload\n",
    "%autoreload 2\n",
    "\n",
    "warnings.filterwarnings(\"ignore\")\n",
    "pd.set_option('display.max_columns', 100)\n",
    "\n",
    "# workflow IO\n",
    "input_dir = \"/Users/januszkoszucki/MGG Dropbox/Projects/kleb-prophage-div/2025-02-12_KLEBDATA_LIGHT\"\n",
    "output_dir = \"/Users/januszkoszucki/MGG Dropbox/Projects/gwas/2025-03-26_KLEBDATA_LIGHT_GWAS\""
   ]
  },
  {
   "cell_type": "code",
   "execution_count": 70,
   "id": "e37b9b87-32bf-47fc-bc3b-c716890ab95a",
   "metadata": {},
   "outputs": [
    {
     "name": "stdout",
     "output_type": "stream",
     "text": [
      "Created directory: /Users/januszkoszucki/tmp_blast_dir\n"
     ]
    }
   ],
   "source": [
    "# folder structure\n",
    "folder_manager = FolderStructure(input_dir, output_dir)\n",
    "structure = folder_manager.get_paths_dict()\n",
    "params = folder_manager.get_params_dict()\n",
    "\n",
    "# aggregate results\n",
    "processor = Processor(structure, params)\n",
    "processor.aggregate_pyseer_hits()\n",
    "processor.aggregate_function_prediction()\n",
    "\n",
    "# load\n",
    "pyseer_hits = load_pyseer_hits(structure, params)"
   ]
  },
  {
   "cell_type": "code",
   "execution_count": 71,
   "id": "7f48a1ec-7652-4a50-9296-79ce143c6b24",
   "metadata": {},
   "outputs": [],
   "source": [
    "analyze = AnalyzeResults(structure, params)\n",
    "\n",
    "analyze.per_locus_analysis(run=False)\n",
    "analyze.aggregate_data(run=False)\n",
    "analyze.combine_predictions_and_enzymes(run=False)"
   ]
  },
  {
   "cell_type": "code",
   "execution_count": 77,
   "id": "60449a7e-c4ef-4ef7-84ce-06d7c1c3f5b7",
   "metadata": {},
   "outputs": [],
   "source": [
    "FIGURE4_PANELA(structure, params)\n",
    "# FIGURE4_PANELB(structure, params)\n",
    "# FIGURE4_PANELC(structure, params)"
   ]
  },
  {
   "cell_type": "code",
   "execution_count": null,
   "id": "e186ce62-1372-4b5e-a416-05c096098ebf",
   "metadata": {},
   "outputs": [],
   "source": []
  },
  {
   "cell_type": "code",
   "execution_count": 128,
   "id": "a883fa14-38a7-473d-be58-966086a048dc",
   "metadata": {},
   "outputs": [
    {
     "data": {
      "text/plain": [
       "'PC0467|PC0585|PC0712|PC1255|PC1259|PC1260|PC1270|PC1458|PC1500|PC1503|PC1869'"
      ]
     },
     "execution_count": 128,
     "metadata": {},
     "output_type": "execute_result"
    }
   ],
   "source": [
    "# paths\n",
    "cluster_functions_table = '/Users/januszkoszucki/MGG Dropbox/Projects/gwas/2025-03-26_KLEBDATA_LIGHT_GWAS/1_INTERMEDIATE/3_FUNCTIONS/HHSEARCH/PCI50C50/clusters_functions.tsv'\n",
    "cluster_map_table = '/Users/januszkoszucki/MGG Dropbox/Projects/gwas/2025-03-26_KLEBDATA_LIGHT_GWAS/1_INTERMEDIATE/3_FUNCTIONS/HHSEARCH/PCI50C50/clusters_map.tsv'\n",
    "\n",
    "# load\n",
    "cluster_functions_df = pd.read_csv(cluster_functions_table, sep='\\t')\n",
    "pcs = list(cluster_functions_df.loc[cluster_functions_df['reported_topology_PC'] == 'no hit']['PC'].unique())\n",
    "\n",
    "hits_pc = pyseer_hits.query('mode ==\"lasso\" and version == \"PCI50C50\" and precision_SC >= 0.75 and recall_SC >= 0.1')\n",
    "pcs = list(hits_pc['PC'].unique())\n",
    "cluster_functions_no_hit_df = cluster_functions_df.query('PC.isin(@pcs)').query('reported_topology_PC == \"no hit\"')\n",
    "cluster_functions_no_hit_df.to_csv('/Users/januszkoszucki/Downloads/no_hit.tsv', sep='\\t', index=False)\n",
    "\n",
    "'|'.join(cluster_functions_no_hit_df['PC'].unique())"
   ]
  },
  {
   "cell_type": "code",
   "execution_count": 131,
   "id": "9a8f9b2b-40a0-4fd2-88ec-bd25070b5ce5",
   "metadata": {},
   "outputs": [
    {
     "data": {
      "text/html": [
       "<div>\n",
       "<style scoped>\n",
       "    .dataframe tbody tr th:only-of-type {\n",
       "        vertical-align: middle;\n",
       "    }\n",
       "\n",
       "    .dataframe tbody tr th {\n",
       "        vertical-align: top;\n",
       "    }\n",
       "\n",
       "    .dataframe thead th {\n",
       "        text-align: right;\n",
       "    }\n",
       "</style>\n",
       "<table border=\"1\" class=\"dataframe\">\n",
       "  <thead>\n",
       "    <tr style=\"text-align: right;\">\n",
       "      <th></th>\n",
       "      <th>PC</th>\n",
       "      <th>locus</th>\n",
       "      <th>precision_SC</th>\n",
       "      <th>recall_SC</th>\n",
       "    </tr>\n",
       "  </thead>\n",
       "  <tbody>\n",
       "    <tr>\n",
       "      <th>4212</th>\n",
       "      <td>PC0712</td>\n",
       "      <td>KL111</td>\n",
       "      <td>0.88</td>\n",
       "      <td>0.50</td>\n",
       "    </tr>\n",
       "    <tr>\n",
       "      <th>4272</th>\n",
       "      <td>PC1255</td>\n",
       "      <td>KL14</td>\n",
       "      <td>1.00</td>\n",
       "      <td>0.27</td>\n",
       "    </tr>\n",
       "    <tr>\n",
       "      <th>4273</th>\n",
       "      <td>PC1869</td>\n",
       "      <td>KL14</td>\n",
       "      <td>1.00</td>\n",
       "      <td>0.18</td>\n",
       "    </tr>\n",
       "    <tr>\n",
       "      <th>4382</th>\n",
       "      <td>PC1270</td>\n",
       "      <td>KL25</td>\n",
       "      <td>1.00</td>\n",
       "      <td>0.40</td>\n",
       "    </tr>\n",
       "    <tr>\n",
       "      <th>4410</th>\n",
       "      <td>PC0467</td>\n",
       "      <td>KL3</td>\n",
       "      <td>1.00</td>\n",
       "      <td>0.75</td>\n",
       "    </tr>\n",
       "    <tr>\n",
       "      <th>4419</th>\n",
       "      <td>PC0585</td>\n",
       "      <td>KL30</td>\n",
       "      <td>1.00</td>\n",
       "      <td>0.17</td>\n",
       "    </tr>\n",
       "    <tr>\n",
       "      <th>4472</th>\n",
       "      <td>PC1259</td>\n",
       "      <td>KL47</td>\n",
       "      <td>1.00</td>\n",
       "      <td>0.36</td>\n",
       "    </tr>\n",
       "    <tr>\n",
       "      <th>4473</th>\n",
       "      <td>PC1260</td>\n",
       "      <td>KL47</td>\n",
       "      <td>1.00</td>\n",
       "      <td>0.36</td>\n",
       "    </tr>\n",
       "    <tr>\n",
       "      <th>4474</th>\n",
       "      <td>PC1500</td>\n",
       "      <td>KL47</td>\n",
       "      <td>1.00</td>\n",
       "      <td>0.36</td>\n",
       "    </tr>\n",
       "    <tr>\n",
       "      <th>4492</th>\n",
       "      <td>PC1458</td>\n",
       "      <td>KL6</td>\n",
       "      <td>0.75</td>\n",
       "      <td>0.17</td>\n",
       "    </tr>\n",
       "    <tr>\n",
       "      <th>4493</th>\n",
       "      <td>PC1503</td>\n",
       "      <td>KL6</td>\n",
       "      <td>0.75</td>\n",
       "      <td>0.17</td>\n",
       "    </tr>\n",
       "  </tbody>\n",
       "</table>\n",
       "</div>"
      ],
      "text/plain": [
       "          PC  locus  precision_SC  recall_SC\n",
       "4212  PC0712  KL111          0.88       0.50\n",
       "4272  PC1255   KL14          1.00       0.27\n",
       "4273  PC1869   KL14          1.00       0.18\n",
       "4382  PC1270   KL25          1.00       0.40\n",
       "4410  PC0467    KL3          1.00       0.75\n",
       "4419  PC0585   KL30          1.00       0.17\n",
       "4472  PC1259   KL47          1.00       0.36\n",
       "4473  PC1260   KL47          1.00       0.36\n",
       "4474  PC1500   KL47          1.00       0.36\n",
       "4492  PC1458    KL6          0.75       0.17\n",
       "4493  PC1503    KL6          0.75       0.17"
      ]
     },
     "execution_count": 131,
     "metadata": {},
     "output_type": "execute_result"
    }
   ],
   "source": [
    "another_list_pcs = list(cluster_functions_no_hit_df['PC'].unique())\n",
    "pyseer_hits.query('mode ==\"lasso\" and version == \"PCI50C50\" and precision_SC >= 0.75 and recall_SC >= 0.1 and PC.isin(@another_list_pcs)')[['PC', 'locus', 'precision_SC', 'recall_SC']]"
   ]
  },
  {
   "cell_type": "code",
   "execution_count": null,
   "id": "31b0e279-3f37-40de-9bdb-05a6ebc055dc",
   "metadata": {},
   "outputs": [],
   "source": []
  },
  {
   "cell_type": "code",
   "execution_count": null,
   "id": "ed9d8b8f-eea7-450a-93c1-aecafcd4c70d",
   "metadata": {},
   "outputs": [],
   "source": []
  },
  {
   "cell_type": "code",
   "execution_count": null,
   "id": "dd8aa110-b5dc-49bd-bb35-c68d7aa48da4",
   "metadata": {},
   "outputs": [],
   "source": []
  }
 ],
 "metadata": {
  "kernelspec": {
   "display_name": "jkoszucki",
   "language": "python",
   "name": "jkoszucki"
  },
  "language_info": {
   "codemirror_mode": {
    "name": "ipython",
    "version": 3
   },
   "file_extension": ".py",
   "mimetype": "text/x-python",
   "name": "python",
   "nbconvert_exporter": "python",
   "pygments_lexer": "ipython3",
   "version": "3.10.13"
  }
 },
 "nbformat": 4,
 "nbformat_minor": 5
}
