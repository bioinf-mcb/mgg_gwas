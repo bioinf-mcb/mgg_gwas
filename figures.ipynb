{
 "cells": [
  {
   "cell_type": "code",
   "execution_count": 66,
   "id": "40a2df63-33e6-4f00-b60e-c1f0e05d0448",
   "metadata": {},
   "outputs": [
    {
     "name": "stdout",
     "output_type": "stream",
     "text": [
      "The autoreload extension is already loaded. To reload it, use:\n",
      "  %reload_ext autoreload\n"
     ]
    }
   ],
   "source": [
    "import sys\n",
    "import argparse\n",
    "import warnings\n",
    "from pathlib import Path\n",
    "from scripts.processing import Processor\n",
    "from scripts.folder_structure import FolderStructure\n",
    "from scripts.analyze import load_pyseer_hits\n",
    "from scripts.analyze import AnalyzeResults\n",
    "from scripts.figures import get_k_loci, FIGURE4_PANELA, FIGURE4_PANELB\n",
    "\n",
    "\n",
    "%load_ext autoreload\n",
    "%autoreload 2\n",
    "\n",
    "warnings.filterwarnings(\"ignore\")\n",
    "pd.set_option('display.max_columns', 100)\n",
    "\n",
    "# workflow IO\n",
    "input_dir = \"/Users/januszkoszucki/MGG Dropbox/Projects/kleb-prophage-div/2025-02-12_KLEBDATA_LIGHT\"\n",
    "output_dir = \"/Users/januszkoszucki/MGG Dropbox/Projects/gwas/2025-02-12_KLEBDATA_LIGHT_GWAS\""
   ]
  },
  {
   "cell_type": "code",
   "execution_count": 67,
   "id": "e37b9b87-32bf-47fc-bc3b-c716890ab95a",
   "metadata": {},
   "outputs": [
    {
     "name": "stdout",
     "output_type": "stream",
     "text": [
      "Created directory: /Users/januszkoszucki/tmp_blast_dir\n"
     ]
    }
   ],
   "source": [
    "# folder structure\n",
    "folder_manager = FolderStructure(input_dir, output_dir)\n",
    "structure = folder_manager.get_paths_dict()\n",
    "params = folder_manager.get_params_dict()\n",
    "\n",
    "# aggregate results\n",
    "processor = Processor(structure, params)\n",
    "processor.aggregate_pyseer_hits()\n",
    "\n",
    "# load\n",
    "pyseer_hits = load_pyseer_hits(structure, params)"
   ]
  },
  {
   "cell_type": "code",
   "execution_count": 68,
   "id": "7f48a1ec-7652-4a50-9296-79ce143c6b24",
   "metadata": {},
   "outputs": [
    {
     "name": "stdout",
     "output_type": "stream",
     "text": [
      "Precision and recall plots per capsule... \n",
      "/Users/januszkoszucki/MGG Dropbox/Projects/gwas/2025-02-12_KLEBDATA_LIGHT_GWAS/4_ANALYZE/1_PER_LOCUS/KL1/elastic_net/KL1_elastic_net.pdf\n"
     ]
    }
   ],
   "source": [
    "analyze = AnalyzeResults(structure, params)\n",
    "\n",
    "analyze.per_locus_analysis(run=True)\n",
    "# analyze.aggregate_data(run=False)\n",
    "# analyze.combine_predictions_and_enzymes(run=False)"
   ]
  },
  {
   "cell_type": "code",
   "execution_count": 65,
   "id": "60449a7e-c4ef-4ef7-84ce-06d7c1c3f5b7",
   "metadata": {},
   "outputs": [],
   "source": [
    "# FIGURE4_PANELA(structure, params, merge_expr=True, target_fig_height=1.4, target_fig_width=7.5, \\\n",
    "#                labels_fontsize=4, cells_fontsize=3.5, margin=0.3, header_space=0.1)\n",
    "\n",
    "# FIGURE4_PANELB(structure, params, min_cov=0.5, min_pident=0, max_evalue=1e-3, use_coverage=True)"
   ]
  },
  {
   "cell_type": "code",
   "execution_count": 78,
   "id": "e186ce62-1372-4b5e-a416-05c096098ebf",
   "metadata": {},
   "outputs": [],
   "source": []
  },
  {
   "cell_type": "code",
   "execution_count": null,
   "id": "a883fa14-38a7-473d-be58-966086a048dc",
   "metadata": {},
   "outputs": [],
   "source": []
  },
  {
   "cell_type": "code",
   "execution_count": null,
   "id": "50355384-ab55-43f7-b6b3-34fb6986d120",
   "metadata": {},
   "outputs": [],
   "source": []
  },
  {
   "cell_type": "code",
   "execution_count": null,
   "id": "0f77d011-b5da-4179-bf54-aa66153dc7a4",
   "metadata": {},
   "outputs": [],
   "source": []
  },
  {
   "cell_type": "code",
   "execution_count": null,
   "id": "ecf7e249-4985-41ae-b254-ddd256abc5b4",
   "metadata": {},
   "outputs": [],
   "source": []
  },
  {
   "cell_type": "code",
   "execution_count": null,
   "id": "6cdc2bd5-af0e-49b0-8c86-456f7707d592",
   "metadata": {},
   "outputs": [],
   "source": []
  },
  {
   "cell_type": "code",
   "execution_count": null,
   "id": "a6ecf19a-36cf-4a32-ba23-06bf5249be71",
   "metadata": {},
   "outputs": [],
   "source": []
  },
  {
   "cell_type": "code",
   "execution_count": null,
   "id": "dffeed00-2667-4627-ba0c-9809ab7408eb",
   "metadata": {},
   "outputs": [],
   "source": []
  },
  {
   "cell_type": "code",
   "execution_count": null,
   "id": "9a8f9b2b-40a0-4fd2-88ec-bd25070b5ce5",
   "metadata": {},
   "outputs": [],
   "source": []
  },
  {
   "cell_type": "code",
   "execution_count": null,
   "id": "31b0e279-3f37-40de-9bdb-05a6ebc055dc",
   "metadata": {},
   "outputs": [],
   "source": []
  }
 ],
 "metadata": {
  "kernelspec": {
   "display_name": "jkoszucki",
   "language": "python",
   "name": "jkoszucki"
  },
  "language_info": {
   "codemirror_mode": {
    "name": "ipython",
    "version": 3
   },
   "file_extension": ".py",
   "mimetype": "text/x-python",
   "name": "python",
   "nbconvert_exporter": "python",
   "pygments_lexer": "ipython3",
   "version": "3.10.13"
  }
 },
 "nbformat": 4,
 "nbformat_minor": 5
}
