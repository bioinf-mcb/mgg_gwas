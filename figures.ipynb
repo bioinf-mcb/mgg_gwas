{
 "cells": [
  {
   "cell_type": "code",
   "execution_count": 6,
   "id": "40a2df63-33e6-4f00-b60e-c1f0e05d0448",
   "metadata": {},
   "outputs": [
    {
     "name": "stdout",
     "output_type": "stream",
     "text": [
      "The autoreload extension is already loaded. To reload it, use:\n",
      "  %reload_ext autoreload\n"
     ]
    }
   ],
   "source": [
    "import sys\n",
    "import argparse\n",
    "import warnings\n",
    "from pathlib import Path\n",
    "from scripts.processing import Processor\n",
    "from scripts.folder_structure import FolderStructure\n",
    "from scripts.analyze import load_pyseer_hits\n",
    "from scripts.analyze import AnalyzeResults\n",
    "from scripts.figures import get_k_loci, FIGURE4_PANELA, FIGURE4_PANELB, FIGURE4_PANELC\n",
    "\n",
    "%load_ext autoreload\n",
    "%autoreload 2\n",
    "\n",
    "warnings.filterwarnings(\"ignore\")\n",
    "pd.set_option('display.max_columns', 100)\n",
    "\n",
    "# workflow IO\n",
    "input_dir = \"/Users/januszkoszucki/MGG Dropbox/Projects/kleb-prophage-div/2025-02-12_KLEBDATA_LIGHT\"\n",
    "output_dir = \"/Users/januszkoszucki/MGG Dropbox/Projects/kleb-prophage-div/2025-02-12_KLEBDATA_LIGHT/3_GWAS/2025-05-13_KLEBDATA_LIGHT_GWAS\""
   ]
  },
  {
   "cell_type": "code",
   "execution_count": 7,
   "id": "e37b9b87-32bf-47fc-bc3b-c716890ab95a",
   "metadata": {},
   "outputs": [
    {
     "name": "stdout",
     "output_type": "stream",
     "text": [
      "Created directory: /Users/januszkoszucki/tmp_blast_dir\n"
     ]
    }
   ],
   "source": [
    "# folder structure\n",
    "folder_manager = FolderStructure(input_dir, output_dir)\n",
    "structure = folder_manager.get_paths_dict()\n",
    "params = folder_manager.get_params_dict()\n",
    "\n",
    "# aggregate results\n",
    "processor = Processor(structure, params)\n",
    "processor.aggregate_pyseer_hits()\n",
    "processor.aggregate_function_prediction()\n",
    "\n",
    "# load\n",
    "pyseer_hits = load_pyseer_hits(structure, params)"
   ]
  },
  {
   "cell_type": "code",
   "execution_count": 9,
   "id": "7f48a1ec-7652-4a50-9296-79ce143c6b24",
   "metadata": {},
   "outputs": [
    {
     "name": "stdout",
     "output_type": "stream",
     "text": [
      "Error creating symbolic link: [Errno 17] File exists: '../../1_INTERMEDIATE/1_PROCESSED_INPUT/PROTMINLEN300_SPECIES-KPN-KVV-KQQ-KQS_MINNCONTIGS500/2_FUNCTIONS' -> '/Users/januszkoszucki/MGG Dropbox/Projects/kleb-prophage-div/2025-02-12_KLEBDATA_LIGHT/3_GWAS/2025-05-13_KLEBDATA_LIGHT_GWAS/4_ANALYZE/2_AGGREGATED_DATA/2_FUNCTIONS'\n",
      "Error creating symbolic link: [Errno 17] File exists: '../../1_INTERMEDIATE/1_PROCESSED_INPUT/PROTMINLEN300_SPECIES-KPN-KVV-KQQ-KQS_MINNCONTIGS500/1_PROTEINS' -> '/Users/januszkoszucki/MGG Dropbox/Projects/kleb-prophage-div/2025-02-12_KLEBDATA_LIGHT/3_GWAS/2025-05-13_KLEBDATA_LIGHT_GWAS/4_ANALYZE/2_AGGREGATED_DATA/1_PROTEINS'\n"
     ]
    }
   ],
   "source": [
    "analyze = AnalyzeResults(structure, params)\n",
    "\n",
    "analyze.per_locus_analysis(run=False)\n",
    "analyze.aggregate_data(run=True)\n",
    "analyze.combine_predictions_and_enzymes(run=True)"
   ]
  },
  {
   "cell_type": "code",
   "execution_count": 35,
   "id": "60449a7e-c4ef-4ef7-84ce-06d7c1c3f5b7",
   "metadata": {},
   "outputs": [
    {
     "name": "stdout",
     "output_type": "stream",
     "text": [
      "\n",
      "\n",
      "Building a new DB, current time: 05/15/2025 11:03:55\n",
      "New DB name:   /Users/januszkoszucki/tmp_blast_dir/sequences.fasta\n",
      "New DB title:  /Users/januszkoszucki/tmp_blast_dir/sequences.fasta\n",
      "Sequence type: Protein\n",
      "Keep MBits: T\n",
      "Maximum file size: 3000000000B\n",
      "Adding sequences from FASTA; added 144 sequences in 0.00282192 seconds.\n",
      "\n",
      "\n"
     ]
    }
   ],
   "source": [
    "FIGURE4_PANELA(structure, params)\n",
    "FIGURE4_PANELB(structure, params)\n",
    "FIGURE4_PANELC(structure, params)"
   ]
  },
  {
   "cell_type": "raw",
   "id": "9cf46ca5-03e2-4685-9f2e-f8bc8ad83900",
   "metadata": {},
   "source": []
  },
  {
   "cell_type": "code",
   "execution_count": null,
   "id": "31b0e279-3f37-40de-9bdb-05a6ebc055dc",
   "metadata": {},
   "outputs": [],
   "source": []
  },
  {
   "cell_type": "code",
   "execution_count": 15,
   "id": "ed9d8b8f-eea7-450a-93c1-aecafcd4c70d",
   "metadata": {},
   "outputs": [
    {
     "data": {
      "text/plain": [
       "dict_keys(['input_processed', 'mmseqs', 'functions', 'gwas', 'processed', 'analyze', 'figures', 'input'])"
      ]
     },
     "execution_count": 15,
     "metadata": {},
     "output_type": "execute_result"
    }
   ],
   "source": [
    "structure.keys()\n"
   ]
  },
  {
   "cell_type": "code",
   "execution_count": null,
   "id": "dd8aa110-b5dc-49bd-bb35-c68d7aa48da4",
   "metadata": {},
   "outputs": [],
   "source": [
    "pd.read_csv()"
   ]
  }
 ],
 "metadata": {
  "kernelspec": {
   "display_name": "jkoszucki",
   "language": "python",
   "name": "jkoszucki"
  },
  "language_info": {
   "codemirror_mode": {
    "name": "ipython",
    "version": 3
   },
   "file_extension": ".py",
   "mimetype": "text/x-python",
   "name": "python",
   "nbconvert_exporter": "python",
   "pygments_lexer": "ipython3",
   "version": "3.10.13"
  }
 },
 "nbformat": 4,
 "nbformat_minor": 5
}
