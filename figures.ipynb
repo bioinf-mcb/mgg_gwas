{
 "cells": [
  {
   "cell_type": "code",
   "execution_count": 1,
   "id": "40a2df63-33e6-4f00-b60e-c1f0e05d0448",
   "metadata": {},
   "outputs": [],
   "source": [
    "import sys\n",
    "import argparse\n",
    "import warnings\n",
    "from pathlib import Path\n",
    "from scripts.processing import Processor\n",
    "from scripts.folder_structure import FolderStructure\n",
    "from scripts.analyze import load_pyseer_hits\n",
    "from scripts.analyze import AnalyzeResults\n",
    "from scripts.figures import get_k_loci, FIGURE4_PANELA, FIGURE4_PANELB\n",
    "\n",
    "\n",
    "%load_ext autoreload\n",
    "%autoreload 2\n",
    "\n",
    "warnings.filterwarnings(\"ignore\")\n",
    "pd.set_option('display.max_columns', 100)\n",
    "\n",
    "# workflow IO\n",
    "input_dir = \"/Users/januszkoszucki/MGG Dropbox/Projects/kleb-prophage-div/2025-02-12_KLEBDATA_LIGHT\"\n",
    "output_dir = \"/Users/januszkoszucki/MGG Dropbox/Projects/gwas/2025-03-26_KLEBDATA_LIGHT_GWAS\""
   ]
  },
  {
   "cell_type": "code",
   "execution_count": 2,
   "id": "e37b9b87-32bf-47fc-bc3b-c716890ab95a",
   "metadata": {},
   "outputs": [
    {
     "ename": "NameError",
     "evalue": "name 'proteins_functions_table' is not defined",
     "output_type": "error",
     "traceback": [
      "\u001b[0;31m---------------------------------------------------------------------------\u001b[0m",
      "\u001b[0;31mNameError\u001b[0m                                 Traceback (most recent call last)",
      "Cell \u001b[0;32mIn[2], line 3\u001b[0m\n\u001b[1;32m      1\u001b[0m \u001b[38;5;66;03m# folder structure\u001b[39;00m\n\u001b[1;32m      2\u001b[0m folder_manager \u001b[38;5;241m=\u001b[39m FolderStructure(input_dir, output_dir)\n\u001b[0;32m----> 3\u001b[0m structure \u001b[38;5;241m=\u001b[39m \u001b[43mfolder_manager\u001b[49m\u001b[38;5;241;43m.\u001b[39;49m\u001b[43mget_paths_dict\u001b[49m\u001b[43m(\u001b[49m\u001b[43m)\u001b[49m\n\u001b[1;32m      4\u001b[0m params \u001b[38;5;241m=\u001b[39m folder_manager\u001b[38;5;241m.\u001b[39mget_params_dict()\n\u001b[1;32m      6\u001b[0m \u001b[38;5;66;03m# aggregate results\u001b[39;00m\n",
      "File \u001b[0;32m~/Projects/code/mgg_gwas/scripts/folder_structure.py:411\u001b[0m, in \u001b[0;36mFolderStructure.get_paths_dict\u001b[0;34m(self)\u001b[0m\n\u001b[1;32m    406\u001b[0m \u001b[38;5;28;01mdef\u001b[39;00m \u001b[38;5;21mget_paths_dict\u001b[39m(\u001b[38;5;28mself\u001b[39m):\n\u001b[1;32m    407\u001b[0m \u001b[38;5;250m    \u001b[39m\u001b[38;5;124;03m\"\"\"\u001b[39;00m\n\u001b[1;32m    408\u001b[0m \u001b[38;5;124;03m    Method to return the folder structure without creating directories.\u001b[39;00m\n\u001b[1;32m    409\u001b[0m \u001b[38;5;124;03m    Useful for loading paths in other classes.\u001b[39;00m\n\u001b[1;32m    410\u001b[0m \u001b[38;5;124;03m    \"\"\"\u001b[39;00m\n\u001b[0;32m--> 411\u001b[0m     \u001b[38;5;28;01mreturn\u001b[39;00m \u001b[38;5;28;43mself\u001b[39;49m\u001b[38;5;241;43m.\u001b[39;49m\u001b[43mcreate_structure\u001b[49m\u001b[43m(\u001b[49m\u001b[43m)\u001b[49m\n",
      "File \u001b[0;32m~/Projects/code/mgg_gwas/scripts/folder_structure.py:322\u001b[0m, in \u001b[0;36mFolderStructure.create_structure\u001b[0;34m(self)\u001b[0m\n\u001b[1;32m    311\u001b[0m pyseer_hits_final_table_filtered \u001b[38;5;241m=\u001b[39m Path(processed_dir, \u001b[38;5;124m'\u001b[39m\u001b[38;5;124mpyseer_hits_filtered.tsv\u001b[39m\u001b[38;5;124m'\u001b[39m)\n\u001b[1;32m    314\u001b[0m \u001b[38;5;66;03m# dict\u001b[39;00m\n\u001b[1;32m    315\u001b[0m processed_dict \u001b[38;5;241m=\u001b[39m {\n\u001b[1;32m    316\u001b[0m     \u001b[38;5;124m\"\u001b[39m\u001b[38;5;124mprocessing_dir\u001b[39m\u001b[38;5;124m\"\u001b[39m: processed_dir,\n\u001b[1;32m    317\u001b[0m     \u001b[38;5;124m\"\u001b[39m\u001b[38;5;124mversions_dir\u001b[39m\u001b[38;5;124m\"\u001b[39m: versions_dir,\n\u001b[1;32m    318\u001b[0m     \u001b[38;5;124m\"\u001b[39m\u001b[38;5;124mintermediate_dir\u001b[39m\u001b[38;5;124m\"\u001b[39m: intermediate_dir,\n\u001b[1;32m    319\u001b[0m     \u001b[38;5;124m\"\u001b[39m\u001b[38;5;124mraw_pyseer_table\u001b[39m\u001b[38;5;124m\"\u001b[39m: raw_pyseer_table,\n\u001b[1;32m    320\u001b[0m     \u001b[38;5;124m\"\u001b[39m\u001b[38;5;124mclean_pyseer_table\u001b[39m\u001b[38;5;124m\"\u001b[39m: clean_pyseer_table,\n\u001b[1;32m    321\u001b[0m     \u001b[38;5;124m\"\u001b[39m\u001b[38;5;124mpcs_metrics_table\u001b[39m\u001b[38;5;124m\"\u001b[39m: pcs_metrics_table,\n\u001b[0;32m--> 322\u001b[0m     \u001b[38;5;124m\"\u001b[39m\u001b[38;5;124mproteins_functions_table\u001b[39m\u001b[38;5;124m\"\u001b[39m: \u001b[43mproteins_functions_table\u001b[49m,\n\u001b[1;32m    323\u001b[0m     \u001b[38;5;124m\"\u001b[39m\u001b[38;5;124mpc_functions_table\u001b[39m\u001b[38;5;124m\"\u001b[39m: pc_functions_table,\n\u001b[1;32m    324\u001b[0m     \u001b[38;5;124m\"\u001b[39m\u001b[38;5;124mpyseer_bootstrap_table\u001b[39m\u001b[38;5;124m\"\u001b[39m: pyseer_bootstrap_table,\n\u001b[1;32m    325\u001b[0m     \u001b[38;5;124m\"\u001b[39m\u001b[38;5;124mpyseer_hits_version_table_all\u001b[39m\u001b[38;5;124m\"\u001b[39m: pyseer_hits_version_table_all,\n\u001b[1;32m    326\u001b[0m     \u001b[38;5;124m\"\u001b[39m\u001b[38;5;124mpyseer_hits_version_table_filtered\u001b[39m\u001b[38;5;124m\"\u001b[39m: pyseer_hits_version_table_filtered,\n\u001b[1;32m    327\u001b[0m     \u001b[38;5;124m\"\u001b[39m\u001b[38;5;124mpyseer_hits_final_table_all\u001b[39m\u001b[38;5;124m\"\u001b[39m: pyseer_hits_final_table_all,\n\u001b[1;32m    328\u001b[0m     \u001b[38;5;124m\"\u001b[39m\u001b[38;5;124mpyseer_hits_final_table_filtered\u001b[39m\u001b[38;5;124m\"\u001b[39m: pyseer_hits_final_table_filtered,\n\u001b[1;32m    329\u001b[0m }\n\u001b[1;32m    332\u001b[0m \u001b[38;5;66;03m## analze\u001b[39;00m\n\u001b[1;32m    333\u001b[0m analyze_dir \u001b[38;5;241m=\u001b[39m Path(output_dir, \u001b[38;5;124m'\u001b[39m\u001b[38;5;124m4_ANALYZE\u001b[39m\u001b[38;5;124m'\u001b[39m)        \n",
      "\u001b[0;31mNameError\u001b[0m: name 'proteins_functions_table' is not defined"
     ]
    }
   ],
   "source": [
    "# folder structure\n",
    "folder_manager = FolderStructure(input_dir, output_dir)\n",
    "structure = folder_manager.get_paths_dict()\n",
    "params = folder_manager.get_params_dict()\n",
    "\n",
    "# aggregate results\n",
    "processor = Processor(structure, params)\n",
    "processor.aggregate_pyseer_hits()\n",
    "\n",
    "# load\n",
    "pyseer_hits = load_pyseer_hits(structure, params)"
   ]
  },
  {
   "cell_type": "code",
   "execution_count": 68,
   "id": "7f48a1ec-7652-4a50-9296-79ce143c6b24",
   "metadata": {},
   "outputs": [
    {
     "name": "stdout",
     "output_type": "stream",
     "text": [
      "Precision and recall plots per capsule... \n",
      "/Users/januszkoszucki/MGG Dropbox/Projects/gwas/2025-02-12_KLEBDATA_LIGHT_GWAS/4_ANALYZE/1_PER_LOCUS/KL1/elastic_net/KL1_elastic_net.pdf\n"
     ]
    }
   ],
   "source": [
    "analyze = AnalyzeResults(structure, params)\n",
    "\n",
    "analyze.per_locus_analysis(run=True)\n",
    "analyze.aggregate_data(run=False)\n",
    "analyze.combine_predictions_and_enzymes(run=False)"
   ]
  },
  {
   "cell_type": "code",
   "execution_count": 65,
   "id": "60449a7e-c4ef-4ef7-84ce-06d7c1c3f5b7",
   "metadata": {},
   "outputs": [],
   "source": [
    "# FIGURE4_PANELA(structure, params, merge_expr=True, target_fig_height=1.4, target_fig_width=7.5, \\\n",
    "#                labels_fontsize=4, cells_fontsize=3.5, margin=0.3, header_space=0.1)\n",
    "\n",
    "# FIGURE4_PANELB(structure, params, min_cov=0.5, min_pident=0, max_evalue=1e-3, use_coverage=True)"
   ]
  },
  {
   "cell_type": "code",
   "execution_count": 78,
   "id": "e186ce62-1372-4b5e-a416-05c096098ebf",
   "metadata": {},
   "outputs": [],
   "source": []
  },
  {
   "cell_type": "code",
   "execution_count": null,
   "id": "a883fa14-38a7-473d-be58-966086a048dc",
   "metadata": {},
   "outputs": [],
   "source": []
  },
  {
   "cell_type": "code",
   "execution_count": null,
   "id": "50355384-ab55-43f7-b6b3-34fb6986d120",
   "metadata": {},
   "outputs": [],
   "source": []
  },
  {
   "cell_type": "code",
   "execution_count": null,
   "id": "0f77d011-b5da-4179-bf54-aa66153dc7a4",
   "metadata": {},
   "outputs": [],
   "source": []
  },
  {
   "cell_type": "code",
   "execution_count": null,
   "id": "ecf7e249-4985-41ae-b254-ddd256abc5b4",
   "metadata": {},
   "outputs": [],
   "source": []
  },
  {
   "cell_type": "code",
   "execution_count": null,
   "id": "6cdc2bd5-af0e-49b0-8c86-456f7707d592",
   "metadata": {},
   "outputs": [],
   "source": []
  },
  {
   "cell_type": "code",
   "execution_count": null,
   "id": "a6ecf19a-36cf-4a32-ba23-06bf5249be71",
   "metadata": {},
   "outputs": [],
   "source": []
  },
  {
   "cell_type": "code",
   "execution_count": null,
   "id": "dffeed00-2667-4627-ba0c-9809ab7408eb",
   "metadata": {},
   "outputs": [],
   "source": []
  },
  {
   "cell_type": "code",
   "execution_count": null,
   "id": "9a8f9b2b-40a0-4fd2-88ec-bd25070b5ce5",
   "metadata": {},
   "outputs": [],
   "source": []
  },
  {
   "cell_type": "code",
   "execution_count": null,
   "id": "31b0e279-3f37-40de-9bdb-05a6ebc055dc",
   "metadata": {},
   "outputs": [],
   "source": []
  }
 ],
 "metadata": {
  "kernelspec": {
   "display_name": "jkoszucki",
   "language": "python",
   "name": "jkoszucki"
  },
  "language_info": {
   "codemirror_mode": {
    "name": "ipython",
    "version": 3
   },
   "file_extension": ".py",
   "mimetype": "text/x-python",
   "name": "python",
   "nbconvert_exporter": "python",
   "pygments_lexer": "ipython3",
   "version": "3.10.13"
  }
 },
 "nbformat": 4,
 "nbformat_minor": 5
}
