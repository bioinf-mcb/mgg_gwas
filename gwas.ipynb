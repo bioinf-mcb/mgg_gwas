{
 "cells": [
  {
   "cell_type": "code",
   "execution_count": 191,
   "id": "923feb59-2684-4ccf-8c46-654241835472",
   "metadata": {},
   "outputs": [
    {
     "name": "stdout",
     "output_type": "stream",
     "text": [
      "The autoreload extension is already loaded. To reload it, use:\n",
      "  %reload_ext autoreload\n"
     ]
    }
   ],
   "source": [
    "import sys\n",
    "import argparse\n",
    "import warnings\n",
    "from pathlib import Path\n",
    "from scripts.folder_structure import FolderStructure\n",
    "from scripts.input_processing import InputProcessor\n",
    "from scripts.variables_manager import VariablesManager\n",
    "from scripts.mmseqs_clustering import MMseqsClustering\n",
    "from scripts.gwas import GWASWorkflow\n",
    "from scripts.processing import Processor\n",
    "\n",
    "%load_ext autoreload\n",
    "%autoreload 2\n",
    "warnings.filterwarnings(\"ignore\")\n",
    "pd.set_option('display.max_columns', 40)\n",
    "\n",
    "# workflow IO\n",
    "input_dir = \"/Users/januszkoszucki/MGG Dropbox/Projects/kleb-prophage-div/2025-02-12_KLEBDATA_LIGHT\"\n",
    "output_dir = \"/Users/januszkoszucki/MGG Dropbox/Projects/gwas/2025-02-12_KLEBDATA_LIGHT_GWAS\""
   ]
  },
  {
   "cell_type": "code",
   "execution_count": 192,
   "id": "3b6d7e27-6896-4f4f-8a01-08beeda03c4d",
   "metadata": {
    "scrolled": true
   },
   "outputs": [
    {
     "name": "stdout",
     "output_type": "stream",
     "text": [
      "Created directory: /Users/januszkoszucki/tmp_blast_dir\n"
     ]
    }
   ],
   "source": [
    "# folder structure\n",
    "folder_manager = FolderStructure(input_dir, output_dir)\n",
    "structure = folder_manager.get_paths_dict()\n",
    "params = folder_manager.get_params_dict()"
   ]
  },
  {
   "cell_type": "code",
   "execution_count": 193,
   "id": "4290b423-8621-4729-b665-974d4ffafb79",
   "metadata": {},
   "outputs": [
    {
     "name": "stdout",
     "output_type": "stream",
     "text": [
      "\n",
      "Processed bacteria table saved.\n",
      "Bacterial genomes (n=3911): 2527 retained (-1384, where 10 have more than 500 contigs and 1383 not in KPN KVV KQQ KQS)\n",
      "\n",
      "Reading not filtered table of prophages!\n",
      "Processed prophages table saved.\n",
      "Prophage genomes (n=8105): 8103 retained (-2 that were found in excluded genomes)\n",
      "\n",
      "Reading already filtered prophages by confidence and completeness! \n",
      "Prophage protein files (n=8105): retained 8103 (-2 that were found in excluded genomes)\n",
      "Prophage proteins processed and saved. [proteins: 105551 with length >= 300] [removed: 371405]\n",
      "\n",
      "Duplicated genes at the end of phages are removed here! A problem of mgg_annotation pipeline.\n"
     ]
    }
   ],
   "source": [
    "# input processor\n",
    "inprocessor = InputProcessor(structure, params)\n",
    "inprocessor.process_bacteria_table()\n",
    "inprocessor.process_bacteria_iqtree()\n",
    "inprocessor.process_prophage_table()\n",
    "inprocessor.process_prophage_proteins()\n",
    "inprocessor.process_function_predictions(run=True)\n",
    "inprocessor.process_recombinant_depos(run=False)"
   ]
  },
  {
   "cell_type": "code",
   "execution_count": null,
   "id": "b22d3756-a9e5-4db3-8e83-5e459c2fdbc7",
   "metadata": {},
   "outputs": [],
   "source": []
  },
  {
   "cell_type": "code",
   "execution_count": 181,
   "id": "aa6a848e-2678-41d7-8abe-416dcf941686",
   "metadata": {},
   "outputs": [],
   "source": [
    "# variables manager\n",
    "manager = VariablesManager(structure, params)\n",
    "mmseqs_vars    = manager.get_mmseqs_vars()\n",
    "proc_clus_vars = manager.get_process_clustering_vars()\n",
    "matrix_vars    = manager.get_matrix_vars()\n",
    "functions_vars = manager.get_map_functions_vars()\n",
    "\n",
    "lasso_vars        = manager.get_gwas_vars(mode='lasso')\n",
    "elastic_net_vars  = manager.get_gwas_vars(mode='elastic_net')"
   ]
  },
  {
   "cell_type": "code",
   "execution_count": 182,
   "id": "217342ad-fb01-456a-8c7b-f1fd409e6bbb",
   "metadata": {
    "scrolled": true
   },
   "outputs": [],
   "source": [
    "# mmseqs clustering\n",
    "clustering = MMseqsClustering(*mmseqs_vars)\n",
    "clustering.run_mmseqs(run=False)\n",
    "clustering.clean_clustering()\n",
    "clustering.process_clustering(*proc_clus_vars)\n",
    "clustering.compute_matrix(*matrix_vars)\n",
    "clustering.map_functions(*functions_vars)\n",
    "clustering.get_alignments()"
   ]
  },
  {
   "cell_type": "code",
   "execution_count": 11,
   "id": "e2feae5b-f0eb-4b38-8027-9be7855d3d19",
   "metadata": {},
   "outputs": [
    {
     "name": "stdout",
     "output_type": "stream",
     "text": [
      "37 phenotypes 20x bootstrap with replacement [sample size = 2478] [genomes without prophages excluded]\n",
      "KL1.. KL2.. KL3.. KL6.. KL7.. KL8.. KL10.. KL11.. KL13.. KL14.. KL15.. KL16.. KL21.. KL22.. KL24.. KL25.. KL28.. KL30.. KL35.. KL38.. KL39.. KL47.. KL48.. KL55.. KL57.. KL60.. KL61.. KL62.. KL64.. KL103.. KL111.. KL122.. KL125.. KL127.. KL142.. KL146.. KL153.. \n",
      "Done!\n",
      "Number of variants per locus exist... remove existing file to run again. \n",
      "Running lasso... Done!\n",
      "Running elastic net... Done!\n"
     ]
    }
   ],
   "source": [
    "# gwas\n",
    "gwas = GWASWorkflow(structure, params)\n",
    "gwas.get_input_files()\n",
    "gwas.compute_n_variants(run=False)\n",
    "gwas.get_script(*lasso_vars)\n",
    "gwas.get_script(*elastic_net_vars)\n",
    "gwas.run_scripts()"
   ]
  },
  {
   "cell_type": "code",
   "execution_count": 12,
   "id": "ff8e396b-19cd-4c4b-b907-2eb5db1e9bc6",
   "metadata": {},
   "outputs": [
    {
     "name": "stdout",
     "output_type": "stream",
     "text": [
      "WARNING! No pyseer results found for mode incorrect!\n",
      "Metrics for variants exist... remove existing files to run again. \n",
      "Pyseer hits with statistics (CI) already computed... remove existing file to run again... loading existing file.\n"
     ]
    }
   ],
   "source": [
    "# processor\n",
    "processor = Processor(structure, params)\n",
    "processor.concatenate_pyseer()\n",
    "processor.compute_metrics(run=True)\n",
    "processor.map_functions_topologies()\n",
    "processor.combine_info_bootstrap()\n",
    "processor.pyseer_hits_with_CI()"
   ]
  },
  {
   "cell_type": "code",
   "execution_count": null,
   "id": "d6267a90-1409-4c8c-a2b8-9f60f9e92e79",
   "metadata": {},
   "outputs": [],
   "source": []
  },
  {
   "cell_type": "code",
   "execution_count": null,
   "id": "7995991f-b6a7-4881-8cec-50cdcf0fa46a",
   "metadata": {},
   "outputs": [],
   "source": []
  },
  {
   "cell_type": "code",
   "execution_count": null,
   "id": "3fffffd6-4b37-4137-bce3-61171089ea95",
   "metadata": {},
   "outputs": [],
   "source": []
  }
 ],
 "metadata": {
  "kernelspec": {
   "display_name": "jkoszucki",
   "language": "python",
   "name": "jkoszucki"
  },
  "language_info": {
   "codemirror_mode": {
    "name": "ipython",
    "version": 3
   },
   "file_extension": ".py",
   "mimetype": "text/x-python",
   "name": "python",
   "nbconvert_exporter": "python",
   "pygments_lexer": "ipython3",
   "version": "3.10.13"
  }
 },
 "nbformat": 4,
 "nbformat_minor": 5
}
