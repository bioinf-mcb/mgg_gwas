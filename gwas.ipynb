{
 "cells": [
  {
   "cell_type": "code",
   "execution_count": 1,
   "id": "923feb59-2684-4ccf-8c46-654241835472",
   "metadata": {},
   "outputs": [
    {
     "ename": "SyntaxError",
     "evalue": "':' expected after dictionary key (folder_structure.py, line 317)",
     "output_type": "error",
     "traceback": [
      "Traceback \u001b[0;36m(most recent call last)\u001b[0m:\n",
      "\u001b[0m  File \u001b[1;32m~/Tools/miniconda3/envs/jkoszucki/lib/python3.10/site-packages/IPython/core/interactiveshell.py:3577\u001b[0m in \u001b[1;35mrun_code\u001b[0m\n    exec(code_obj, self.user_global_ns, self.user_ns)\u001b[0m\n",
      "\u001b[0;36m  Cell \u001b[0;32mIn[1], line 5\u001b[0;36m\n\u001b[0;31m    from scripts.folder_structure import FolderStructure\u001b[0;36m\n",
      "\u001b[0;36m  File \u001b[0;32m~/Projects/code/mgg_gwas/scripts/folder_structure.py:317\u001b[0;36m\u001b[0m\n\u001b[0;31m    \"versions_dir\": versions_dir,cd ~\u001b[0m\n\u001b[0m                                  ^\u001b[0m\n\u001b[0;31mSyntaxError\u001b[0m\u001b[0;31m:\u001b[0m ':' expected after dictionary key\n"
     ]
    }
   ],
   "source": [
    "import sys\n",
    "import argparse\n",
    "import warnings\n",
    "from pathlib import Path\n",
    "from scripts.folder_structure import FolderStructure\n",
    "from scripts.input_processing import InputProcessor\n",
    "from scripts.variables_manager import VariablesManager\n",
    "from scripts.mmseqs_clustering import MMseqsClustering\n",
    "from scripts.gwas import GWASWorkflow\n",
    "from scripts.processing import Processor\n",
    "\n",
    "%load_ext autoreload\n",
    "%autoreload 2\n",
    "warnings.filterwarnings(\"ignore\")\n",
    "pd.set_option('display.max_columns', 40)\n",
    "\n",
    "# workflow IO\n",
    "input_dir = \"/Users/januszkoszucki/MGG Dropbox/Projects/kleb-prophage-div/2025-02-12_KLEBDATA_LIGHT\"\n",
    "output_dir = \"/Users/januszkoszucki/MGG Dropbox/Projects/gwas/2025-03-26_KLEBDATA_LIGHT_GWAS\""
   ]
  },
  {
   "cell_type": "code",
   "execution_count": null,
   "id": "3b6d7e27-6896-4f4f-8a01-08beeda03c4d",
   "metadata": {
    "scrolled": true
   },
   "outputs": [],
   "source": [
    "# folder structure\n",
    "folder_manager = FolderStructure(input_dir, output_dir)\n",
    "structure = folder_manager.get_paths_dict()\n",
    "params = folder_manager.get_params_dict()"
   ]
  },
  {
   "cell_type": "code",
   "execution_count": null,
   "id": "4290b423-8621-4729-b665-974d4ffafb79",
   "metadata": {},
   "outputs": [],
   "source": [
    "# input processor\n",
    "inprocessor = InputProcessor(structure, params)\n",
    "inprocessor.process_bacteria_table()\n",
    "inprocessor.process_bacteria_iqtree()\n",
    "inprocessor.process_prophage_table()\n",
    "inprocessor.process_prophage_proteins()\n",
    "inprocessor.process_function_predictions(run=False)\n",
    "inprocessor.process_recombinant_depos(run=False)"
   ]
  },
  {
   "cell_type": "code",
   "execution_count": null,
   "id": "aa6a848e-2678-41d7-8abe-416dcf941686",
   "metadata": {},
   "outputs": [],
   "source": [
    "# variables manager\n",
    "manager = VariablesManager(structure, params)\n",
    "mmseqs_vars    = manager.get_mmseqs_vars()\n",
    "proc_clus_vars = manager.get_process_clustering_vars()\n",
    "matrix_vars    = manager.get_matrix_vars()\n",
    "functions_vars = manager.get_map_functions_vars()\n",
    "\n",
    "lasso_vars        = manager.get_gwas_vars(mode='lasso')\n",
    "elastic_net_vars  = manager.get_gwas_vars(mode='elastic_net')"
   ]
  },
  {
   "cell_type": "code",
   "execution_count": null,
   "id": "217342ad-fb01-456a-8c7b-f1fd409e6bbb",
   "metadata": {
    "scrolled": true
   },
   "outputs": [],
   "source": [
    "# mmseqs clustering\n",
    "clustering = MMseqsClustering(*mmseqs_vars)\n",
    "clustering.run_mmseqs(run=False)\n",
    "clustering.clean_clustering()\n",
    "clustering.process_clustering(*proc_clus_vars)\n",
    "clustering.compute_matrix(*matrix_vars)\n",
    "clustering.map_functions(*functions_vars)\n",
    "clustering.get_alignments()"
   ]
  },
  {
   "cell_type": "code",
   "execution_count": null,
   "id": "e2feae5b-f0eb-4b38-8027-9be7855d3d19",
   "metadata": {},
   "outputs": [],
   "source": [
    "# gwas\n",
    "gwas = GWASWorkflow(structure, params)\n",
    "gwas.get_input_files()\n",
    "gwas.compute_n_variants(run=False)\n",
    "gwas.get_script(*lasso_vars)\n",
    "gwas.get_script(*elastic_net_vars)\n",
    "gwas.run_scripts()"
   ]
  },
  {
   "cell_type": "code",
   "execution_count": null,
   "id": "ff8e396b-19cd-4c4b-b907-2eb5db1e9bc6",
   "metadata": {},
   "outputs": [],
   "source": [
    "# processor\n",
    "processor = Processor(structure, params)\n",
    "processor.concatenate_pyseer()\n",
    "processor.compute_metrics(run=False)\n",
    "processor.combine_info_bootstrap()\n",
    "processor.pyseer_hits_with_CI()"
   ]
  },
  {
   "cell_type": "code",
   "execution_count": null,
   "id": "d6267a90-1409-4c8c-a2b8-9f60f9e92e79",
   "metadata": {},
   "outputs": [],
   "source": []
  }
 ],
 "metadata": {
  "kernelspec": {
   "display_name": "jkoszucki",
   "language": "python",
   "name": "jkoszucki"
  },
  "language_info": {
   "codemirror_mode": {
    "name": "ipython",
    "version": 3
   },
   "file_extension": ".py",
   "mimetype": "text/x-python",
   "name": "python",
   "nbconvert_exporter": "python",
   "pygments_lexer": "ipython3",
   "version": "3.10.13"
  }
 },
 "nbformat": 4,
 "nbformat_minor": 5
}
